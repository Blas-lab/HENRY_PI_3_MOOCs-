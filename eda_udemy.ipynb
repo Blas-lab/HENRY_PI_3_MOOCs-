{
 "cells": [
  {
   "cell_type": "code",
   "execution_count": 73,
   "metadata": {},
   "outputs": [],
   "source": [
    "import pandas as pd\n",
    "import numpy as np\n",
    "import matplotlib.pyplot as plt\n",
    "from langdetect import detect\n",
    "import seaborn as sns"
   ]
  },
  {
   "cell_type": "code",
   "execution_count": 74,
   "metadata": {},
   "outputs": [
    {
     "name": "stdout",
     "output_type": "stream",
     "text": [
      "<class 'pandas.core.frame.DataFrame'>\n",
      "RangeIndex: 3678 entries, 0 to 3677\n",
      "Data columns (total 12 columns):\n",
      " #   Column               Non-Null Count  Dtype  \n",
      "---  ------               --------------  -----  \n",
      " 0   course_id            3678 non-null   int64  \n",
      " 1   course_title         3678 non-null   object \n",
      " 2   url                  3678 non-null   object \n",
      " 3   is_paid              3678 non-null   bool   \n",
      " 4   price                3678 non-null   int64  \n",
      " 5   num_subscribers      3678 non-null   int64  \n",
      " 6   num_reviews          3678 non-null   int64  \n",
      " 7   num_lectures         3678 non-null   int64  \n",
      " 8   level                3678 non-null   object \n",
      " 9   content_duration     3678 non-null   float64\n",
      " 10  published_timestamp  3678 non-null   object \n",
      " 11  subject              3678 non-null   object \n",
      "dtypes: bool(1), float64(1), int64(5), object(5)\n",
      "memory usage: 319.8+ KB\n",
      "None\n"
     ]
    }
   ],
   "source": [
    "udemy_courses = pd.read_csv(\"./Datasets/Moocs/udemy_courses.csv\")\n",
    "print(udemy_courses.info())"
   ]
  },
  {
   "cell_type": "code",
   "execution_count": 75,
   "metadata": {},
   "outputs": [],
   "source": [
    "udemy_courses = udemy_courses.drop_duplicates()"
   ]
  },
  {
   "cell_type": "code",
   "execution_count": 76,
   "metadata": {},
   "outputs": [
    {
     "name": "stdout",
     "output_type": "stream",
     "text": [
      "<class 'pandas.core.frame.DataFrame'>\n",
      "Int64Index: 3672 entries, 0 to 3677\n",
      "Data columns (total 12 columns):\n",
      " #   Column               Non-Null Count  Dtype  \n",
      "---  ------               --------------  -----  \n",
      " 0   course_id            3672 non-null   int64  \n",
      " 1   course_title         3672 non-null   object \n",
      " 2   url                  3672 non-null   object \n",
      " 3   is_paid              3672 non-null   bool   \n",
      " 4   price                3672 non-null   int64  \n",
      " 5   num_subscribers      3672 non-null   int64  \n",
      " 6   num_reviews          3672 non-null   int64  \n",
      " 7   num_lectures         3672 non-null   int64  \n",
      " 8   level                3672 non-null   object \n",
      " 9   content_duration     3672 non-null   float64\n",
      " 10  published_timestamp  3672 non-null   object \n",
      " 11  subject              3672 non-null   object \n",
      "dtypes: bool(1), float64(1), int64(5), object(5)\n",
      "memory usage: 347.8+ KB\n",
      "None\n"
     ]
    }
   ],
   "source": [
    "print(udemy_courses.info())"
   ]
  },
  {
   "cell_type": "code",
   "execution_count": 77,
   "metadata": {},
   "outputs": [
    {
     "name": "stdout",
     "output_type": "stream",
     "text": [
      "      course_id                                       course_title  \\\n",
      "0       1070968                 Ultimate Investment Banking Course   \n",
      "1       1113822  Complete GST Course & Certification - Grow You...   \n",
      "2       1006314  Financial Modeling for Business Analysts and C...   \n",
      "3       1210588  Beginner to Pro - Financial Analysis in Excel ...   \n",
      "4       1011058       How To Maximize Your Profits Trading Options   \n",
      "...         ...                                                ...   \n",
      "3673     775618  Learn jQuery from Scratch - Master of JavaScri...   \n",
      "3674    1088178  How To Design A WordPress Website With No Codi...   \n",
      "3675     635248                      Learn and Build using Polymer   \n",
      "3676     905096  CSS Animations: Create Amazing Effects on Your...   \n",
      "3677     297602  Using MODX CMS to Build Websites: A Beginner's...   \n",
      "\n",
      "                                                    url  is_paid  price  \\\n",
      "0     https://www.udemy.com/ultimate-investment-bank...     True    200   \n",
      "1         https://www.udemy.com/goods-and-services-tax/     True     75   \n",
      "2     https://www.udemy.com/financial-modeling-for-b...     True     45   \n",
      "3     https://www.udemy.com/complete-excel-finance-c...     True     95   \n",
      "4     https://www.udemy.com/how-to-maximize-your-pro...     True    200   \n",
      "...                                                 ...      ...    ...   \n",
      "3673  https://www.udemy.com/easy-jquery-for-beginner...     True    100   \n",
      "3674  https://www.udemy.com/how-to-make-a-wordpress-...     True     25   \n",
      "3675  https://www.udemy.com/learn-and-build-using-po...     True     40   \n",
      "3676  https://www.udemy.com/css-animations-create-am...     True     50   \n",
      "3677  https://www.udemy.com/using-modx-cms-to-build-...     True     45   \n",
      "\n",
      "      num_subscribers  num_reviews  num_lectures               level  \\\n",
      "0                2147           23            51          All Levels   \n",
      "1                2792          923           274          All Levels   \n",
      "2                2174           74            51  Intermediate Level   \n",
      "3                2451           11            36          All Levels   \n",
      "4                1276           45            26  Intermediate Level   \n",
      "...               ...          ...           ...                 ...   \n",
      "3673             1040           14            21          All Levels   \n",
      "3674              306            3            42      Beginner Level   \n",
      "3675              513          169            48          All Levels   \n",
      "3676              300           31            38          All Levels   \n",
      "3677              901           36            20      Beginner Level   \n",
      "\n",
      "      content_duration   published_timestamp           subject  \n",
      "0                  1.5  2017-01-18T20:58:58Z  Business Finance  \n",
      "1                 39.0  2017-03-09T16:34:20Z  Business Finance  \n",
      "2                  2.5  2016-12-19T19:26:30Z  Business Finance  \n",
      "3                  3.0  2017-05-30T20:07:24Z  Business Finance  \n",
      "4                  2.0  2016-12-13T14:57:18Z  Business Finance  \n",
      "...                ...                   ...               ...  \n",
      "3673               2.0  2016-06-14T17:36:46Z   Web Development  \n",
      "3674               3.5  2017-03-10T22:24:30Z   Web Development  \n",
      "3675               3.5  2015-12-30T16:41:42Z   Web Development  \n",
      "3676               3.0  2016-08-11T19:06:15Z   Web Development  \n",
      "3677               2.0  2014-09-28T19:51:11Z   Web Development  \n",
      "\n",
      "[3672 rows x 12 columns]\n"
     ]
    }
   ],
   "source": [
    "print(udemy_courses)"
   ]
  },
  {
   "attachments": {},
   "cell_type": "markdown",
   "metadata": {},
   "source": [
    "# Generating column rating for udemy"
   ]
  },
  {
   "cell_type": "code",
   "execution_count": 78,
   "metadata": {},
   "outputs": [],
   "source": [
    "min_enrolled = udemy_courses[\"num_subscribers\"].min()\n",
    "max_enrolled = udemy_courses[\"num_subscribers\"].max()\n",
    "\n",
    "udemy_courses['rating'] = np.where((udemy_courses['num_subscribers'] >= min_enrolled) & (udemy_courses['num_subscribers'] <= (min_enrolled + (max_enrolled - min_enrolled)/5)), 1, \n",
    "                                   np.where((udemy_courses['num_subscribers'] > (min_enrolled + (max_enrolled - min_enrolled)/5)) & (udemy_courses['num_subscribers'] <= (min_enrolled + 2*(max_enrolled - min_enrolled)/5)), 2, \n",
    "                                            np.where((udemy_courses['num_subscribers'] > (min_enrolled + 2*(max_enrolled - min_enrolled)/5)) & (udemy_courses['num_subscribers'] <= (min_enrolled + 3*(max_enrolled - min_enrolled)/5)), 3, \n",
    "                                                     np.where((udemy_courses['num_subscribers'] > (min_enrolled + 3*(max_enrolled - min_enrolled)/5)) & (udemy_courses['num_subscribers'] <= (min_enrolled + 4*(max_enrolled - min_enrolled)/5)), 4, 5))))\n"
   ]
  },
  {
   "cell_type": "code",
   "execution_count": 79,
   "metadata": {},
   "outputs": [
    {
     "name": "stdout",
     "output_type": "stream",
     "text": [
      "<class 'pandas.core.frame.DataFrame'>\n",
      "Int64Index: 3672 entries, 0 to 3677\n",
      "Data columns (total 13 columns):\n",
      " #   Column               Non-Null Count  Dtype  \n",
      "---  ------               --------------  -----  \n",
      " 0   course_id            3672 non-null   int64  \n",
      " 1   course_title         3672 non-null   object \n",
      " 2   url                  3672 non-null   object \n",
      " 3   is_paid              3672 non-null   bool   \n",
      " 4   price                3672 non-null   int64  \n",
      " 5   num_subscribers      3672 non-null   int64  \n",
      " 6   num_reviews          3672 non-null   int64  \n",
      " 7   num_lectures         3672 non-null   int64  \n",
      " 8   level                3672 non-null   object \n",
      " 9   content_duration     3672 non-null   float64\n",
      " 10  published_timestamp  3672 non-null   object \n",
      " 11  subject              3672 non-null   object \n",
      " 12  rating               3672 non-null   int32  \n",
      "dtypes: bool(1), float64(1), int32(1), int64(5), object(5)\n",
      "memory usage: 362.2+ KB\n",
      "None\n"
     ]
    }
   ],
   "source": [
    "print(udemy_courses.info())"
   ]
  },
  {
   "cell_type": "code",
   "execution_count": 80,
   "metadata": {},
   "outputs": [
    {
     "name": "stdout",
     "output_type": "stream",
     "text": [
      "      course_id                                       course_title  \\\n",
      "0       1070968                 Ultimate Investment Banking Course   \n",
      "1       1113822  Complete GST Course & Certification - Grow You...   \n",
      "2       1006314  Financial Modeling for Business Analysts and C...   \n",
      "3       1210588  Beginner to Pro - Financial Analysis in Excel ...   \n",
      "4       1011058       How To Maximize Your Profits Trading Options   \n",
      "...         ...                                                ...   \n",
      "3673     775618  Learn jQuery from Scratch - Master of JavaScri...   \n",
      "3674    1088178  How To Design A WordPress Website With No Codi...   \n",
      "3675     635248                      Learn and Build using Polymer   \n",
      "3676     905096  CSS Animations: Create Amazing Effects on Your...   \n",
      "3677     297602  Using MODX CMS to Build Websites: A Beginner's...   \n",
      "\n",
      "                                                    url  is_paid  price  \\\n",
      "0     https://www.udemy.com/ultimate-investment-bank...     True    200   \n",
      "1         https://www.udemy.com/goods-and-services-tax/     True     75   \n",
      "2     https://www.udemy.com/financial-modeling-for-b...     True     45   \n",
      "3     https://www.udemy.com/complete-excel-finance-c...     True     95   \n",
      "4     https://www.udemy.com/how-to-maximize-your-pro...     True    200   \n",
      "...                                                 ...      ...    ...   \n",
      "3673  https://www.udemy.com/easy-jquery-for-beginner...     True    100   \n",
      "3674  https://www.udemy.com/how-to-make-a-wordpress-...     True     25   \n",
      "3675  https://www.udemy.com/learn-and-build-using-po...     True     40   \n",
      "3676  https://www.udemy.com/css-animations-create-am...     True     50   \n",
      "3677  https://www.udemy.com/using-modx-cms-to-build-...     True     45   \n",
      "\n",
      "      num_subscribers  num_reviews  num_lectures               level  \\\n",
      "0                2147           23            51          All Levels   \n",
      "1                2792          923           274          All Levels   \n",
      "2                2174           74            51  Intermediate Level   \n",
      "3                2451           11            36          All Levels   \n",
      "4                1276           45            26  Intermediate Level   \n",
      "...               ...          ...           ...                 ...   \n",
      "3673             1040           14            21          All Levels   \n",
      "3674              306            3            42      Beginner Level   \n",
      "3675              513          169            48          All Levels   \n",
      "3676              300           31            38          All Levels   \n",
      "3677              901           36            20      Beginner Level   \n",
      "\n",
      "      content_duration   published_timestamp           subject  rating  \n",
      "0                  1.5  2017-01-18T20:58:58Z  Business Finance       1  \n",
      "1                 39.0  2017-03-09T16:34:20Z  Business Finance       1  \n",
      "2                  2.5  2016-12-19T19:26:30Z  Business Finance       1  \n",
      "3                  3.0  2017-05-30T20:07:24Z  Business Finance       1  \n",
      "4                  2.0  2016-12-13T14:57:18Z  Business Finance       1  \n",
      "...                ...                   ...               ...     ...  \n",
      "3673               2.0  2016-06-14T17:36:46Z   Web Development       1  \n",
      "3674               3.5  2017-03-10T22:24:30Z   Web Development       1  \n",
      "3675               3.5  2015-12-30T16:41:42Z   Web Development       1  \n",
      "3676               3.0  2016-08-11T19:06:15Z   Web Development       1  \n",
      "3677               2.0  2014-09-28T19:51:11Z   Web Development       1  \n",
      "\n",
      "[3672 rows x 13 columns]\n"
     ]
    }
   ],
   "source": [
    "print(udemy_courses)"
   ]
  },
  {
   "attachments": {},
   "cell_type": "markdown",
   "metadata": {},
   "source": [
    "# Drop duplicates by column \"course_title\""
   ]
  },
  {
   "cell_type": "code",
   "execution_count": 81,
   "metadata": {},
   "outputs": [],
   "source": [
    "udemy_courses = udemy_courses.drop_duplicates(subset='course_title')"
   ]
  },
  {
   "cell_type": "code",
   "execution_count": 82,
   "metadata": {},
   "outputs": [
    {
     "name": "stdout",
     "output_type": "stream",
     "text": [
      "<class 'pandas.core.frame.DataFrame'>\n",
      "Int64Index: 3663 entries, 0 to 3677\n",
      "Data columns (total 13 columns):\n",
      " #   Column               Non-Null Count  Dtype  \n",
      "---  ------               --------------  -----  \n",
      " 0   course_id            3663 non-null   int64  \n",
      " 1   course_title         3663 non-null   object \n",
      " 2   url                  3663 non-null   object \n",
      " 3   is_paid              3663 non-null   bool   \n",
      " 4   price                3663 non-null   int64  \n",
      " 5   num_subscribers      3663 non-null   int64  \n",
      " 6   num_reviews          3663 non-null   int64  \n",
      " 7   num_lectures         3663 non-null   int64  \n",
      " 8   level                3663 non-null   object \n",
      " 9   content_duration     3663 non-null   float64\n",
      " 10  published_timestamp  3663 non-null   object \n",
      " 11  subject              3663 non-null   object \n",
      " 12  rating               3663 non-null   int32  \n",
      "dtypes: bool(1), float64(1), int32(1), int64(5), object(5)\n",
      "memory usage: 361.3+ KB\n",
      "None\n"
     ]
    }
   ],
   "source": [
    "print(udemy_courses.info())"
   ]
  },
  {
   "attachments": {},
   "cell_type": "markdown",
   "metadata": {},
   "source": [
    "# Drop unecesary columns and remane \"course_title\" as \"title\""
   ]
  },
  {
   "cell_type": "code",
   "execution_count": 83,
   "metadata": {},
   "outputs": [],
   "source": [
    "udemy_courses.drop(columns=[\"course_id\", \"published_timestamp\", \"num_lectures\"], inplace=True)\n",
    "udemy_courses.rename(columns={\"course_title\": \"title\"}, inplace=True)\n"
   ]
  },
  {
   "cell_type": "code",
   "execution_count": 84,
   "metadata": {},
   "outputs": [
    {
     "name": "stdout",
     "output_type": "stream",
     "text": [
      "<class 'pandas.core.frame.DataFrame'>\n",
      "Int64Index: 3663 entries, 0 to 3677\n",
      "Data columns (total 10 columns):\n",
      " #   Column            Non-Null Count  Dtype  \n",
      "---  ------            --------------  -----  \n",
      " 0   title             3663 non-null   object \n",
      " 1   url               3663 non-null   object \n",
      " 2   is_paid           3663 non-null   bool   \n",
      " 3   price             3663 non-null   int64  \n",
      " 4   num_subscribers   3663 non-null   int64  \n",
      " 5   num_reviews       3663 non-null   int64  \n",
      " 6   level             3663 non-null   object \n",
      " 7   content_duration  3663 non-null   float64\n",
      " 8   subject           3663 non-null   object \n",
      " 9   rating            3663 non-null   int32  \n",
      "dtypes: bool(1), float64(1), int32(1), int64(3), object(4)\n",
      "memory usage: 275.4+ KB\n",
      "None\n"
     ]
    }
   ],
   "source": [
    "print(udemy_courses.info())"
   ]
  },
  {
   "cell_type": "code",
   "execution_count": 85,
   "metadata": {},
   "outputs": [
    {
     "name": "stdout",
     "output_type": "stream",
     "text": [
      "                                                  title  \\\n",
      "0                    Ultimate Investment Banking Course   \n",
      "1     Complete GST Course & Certification - Grow You...   \n",
      "2     Financial Modeling for Business Analysts and C...   \n",
      "3     Beginner to Pro - Financial Analysis in Excel ...   \n",
      "4          How To Maximize Your Profits Trading Options   \n",
      "...                                                 ...   \n",
      "3673  Learn jQuery from Scratch - Master of JavaScri...   \n",
      "3674  How To Design A WordPress Website With No Codi...   \n",
      "3675                      Learn and Build using Polymer   \n",
      "3676  CSS Animations: Create Amazing Effects on Your...   \n",
      "3677  Using MODX CMS to Build Websites: A Beginner's...   \n",
      "\n",
      "                                                    url  is_paid  price  \\\n",
      "0     https://www.udemy.com/ultimate-investment-bank...     True    200   \n",
      "1         https://www.udemy.com/goods-and-services-tax/     True     75   \n",
      "2     https://www.udemy.com/financial-modeling-for-b...     True     45   \n",
      "3     https://www.udemy.com/complete-excel-finance-c...     True     95   \n",
      "4     https://www.udemy.com/how-to-maximize-your-pro...     True    200   \n",
      "...                                                 ...      ...    ...   \n",
      "3673  https://www.udemy.com/easy-jquery-for-beginner...     True    100   \n",
      "3674  https://www.udemy.com/how-to-make-a-wordpress-...     True     25   \n",
      "3675  https://www.udemy.com/learn-and-build-using-po...     True     40   \n",
      "3676  https://www.udemy.com/css-animations-create-am...     True     50   \n",
      "3677  https://www.udemy.com/using-modx-cms-to-build-...     True     45   \n",
      "\n",
      "      num_subscribers  num_reviews               level  content_duration  \\\n",
      "0                2147           23          All Levels               1.5   \n",
      "1                2792          923          All Levels              39.0   \n",
      "2                2174           74  Intermediate Level               2.5   \n",
      "3                2451           11          All Levels               3.0   \n",
      "4                1276           45  Intermediate Level               2.0   \n",
      "...               ...          ...                 ...               ...   \n",
      "3673             1040           14          All Levels               2.0   \n",
      "3674              306            3      Beginner Level               3.5   \n",
      "3675              513          169          All Levels               3.5   \n",
      "3676              300           31          All Levels               3.0   \n",
      "3677              901           36      Beginner Level               2.0   \n",
      "\n",
      "               subject  rating  \n",
      "0     Business Finance       1  \n",
      "1     Business Finance       1  \n",
      "2     Business Finance       1  \n",
      "3     Business Finance       1  \n",
      "4     Business Finance       1  \n",
      "...                ...     ...  \n",
      "3673   Web Development       1  \n",
      "3674   Web Development       1  \n",
      "3675   Web Development       1  \n",
      "3676   Web Development       1  \n",
      "3677   Web Development       1  \n",
      "\n",
      "[3663 rows x 10 columns]\n"
     ]
    }
   ],
   "source": [
    "print(udemy_courses)"
   ]
  },
  {
   "attachments": {},
   "cell_type": "markdown",
   "metadata": {},
   "source": [
    "# check values for \"level\" column"
   ]
  },
  {
   "cell_type": "code",
   "execution_count": 86,
   "metadata": {},
   "outputs": [
    {
     "name": "stdout",
     "output_type": "stream",
     "text": [
      "['All Levels' 'Intermediate Level' 'Beginner Level' 'Expert Level']\n"
     ]
    }
   ],
   "source": [
    "levels = udemy_courses[\"level\"].unique()\n",
    "print(levels)\n"
   ]
  },
  {
   "cell_type": "code",
   "execution_count": 87,
   "metadata": {},
   "outputs": [
    {
     "name": "stdout",
     "output_type": "stream",
     "text": [
      "<class 'pandas.core.frame.DataFrame'>\n",
      "Int64Index: 3663 entries, 0 to 3677\n",
      "Data columns (total 10 columns):\n",
      " #   Column            Non-Null Count  Dtype  \n",
      "---  ------            --------------  -----  \n",
      " 0   title             3663 non-null   object \n",
      " 1   url               3663 non-null   object \n",
      " 2   is_paid           3663 non-null   bool   \n",
      " 3   price             3663 non-null   int64  \n",
      " 4   num_subscribers   3663 non-null   int64  \n",
      " 5   num_reviews       3663 non-null   int64  \n",
      " 6   level             3663 non-null   object \n",
      " 7   content_duration  3663 non-null   float64\n",
      " 8   subject           3663 non-null   object \n",
      " 9   rating            3663 non-null   int32  \n",
      "dtypes: bool(1), float64(1), int32(1), int64(3), object(4)\n",
      "memory usage: 275.4+ KB\n",
      "None\n"
     ]
    }
   ],
   "source": [
    "print(udemy_courses.info())"
   ]
  },
  {
   "attachments": {},
   "cell_type": "markdown",
   "metadata": {},
   "source": [
    "# add column institution and platform"
   ]
  },
  {
   "cell_type": "code",
   "execution_count": 88,
   "metadata": {},
   "outputs": [],
   "source": [
    "udemy_courses[\"institution\"] = \"unknown\"\n",
    "udemy_courses[\"platform\"] = \"udemy\""
   ]
  },
  {
   "attachments": {},
   "cell_type": "markdown",
   "metadata": {},
   "source": [
    "# Creation of \"language\" column "
   ]
  },
  {
   "cell_type": "code",
   "execution_count": 89,
   "metadata": {},
   "outputs": [],
   "source": [
    "def detect_language(text):\n",
    "    try:\n",
    "        return detect(text)\n",
    "    except:\n",
    "        return \"Error\"\n",
    "\n",
    "udemy_courses['language'] = udemy_courses['title'] + \" \" + udemy_courses['subject']\n",
    "udemy_courses['language'] = udemy_courses['language'].apply(detect_language)\n"
   ]
  },
  {
   "attachments": {},
   "cell_type": "markdown",
   "metadata": {},
   "source": [
    "# Drop unecesary columns and order them"
   ]
  },
  {
   "cell_type": "code",
   "execution_count": 90,
   "metadata": {},
   "outputs": [],
   "source": [
    "columns_to_keep = ['price', 'language', 'level', 'rating', 'title', 'institution', 'subject', 'platform']\n",
    "udemy_courses = udemy_courses[columns_to_keep]"
   ]
  },
  {
   "attachments": {},
   "cell_type": "markdown",
   "metadata": {},
   "source": [
    "# export cleaned files"
   ]
  },
  {
   "cell_type": "code",
   "execution_count": 91,
   "metadata": {},
   "outputs": [],
   "source": [
    "# Export as .csv\n",
    "udemy_courses.to_csv('./Datasets/Cleaned/udemy_clean.csv', index=False)\n",
    "\n",
    "# Export as .xlsx\n",
    "udemy_courses.to_excel('./Datasets/Cleaned/udemy_clean.xlsx', index=False)\n"
   ]
  }
 ],
 "metadata": {
  "kernelspec": {
   "display_name": "Python 3",
   "language": "python",
   "name": "python3"
  },
  "language_info": {
   "codemirror_mode": {
    "name": "ipython",
    "version": 3
   },
   "file_extension": ".py",
   "mimetype": "text/x-python",
   "name": "python",
   "nbconvert_exporter": "python",
   "pygments_lexer": "ipython3",
   "version": "3.10.8"
  },
  "orig_nbformat": 4,
  "vscode": {
   "interpreter": {
    "hash": "ffda8b6017134b5c6128eec6546762e20742105f4bc29c7c0f871edb66bedab5"
   }
  }
 },
 "nbformat": 4,
 "nbformat_minor": 2
}
