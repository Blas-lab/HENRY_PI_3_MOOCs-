{
 "cells": [
  {
   "cell_type": "code",
   "execution_count": 55,
   "metadata": {},
   "outputs": [],
   "source": [
    "import pandas as pd\n",
    "import numpy as np\n",
    "import matplotlib.pyplot as plt\n",
    "from langdetect import detect\n",
    "import seaborn as sns"
   ]
  },
  {
   "cell_type": "code",
   "execution_count": 56,
   "metadata": {},
   "outputs": [],
   "source": [
    "# Import files"
   ]
  },
  {
   "cell_type": "code",
   "execution_count": 57,
   "metadata": {},
   "outputs": [
    {
     "name": "stdout",
     "output_type": "stream",
     "text": [
      "<class 'pandas.core.frame.DataFrame'>\n",
      "RangeIndex: 623 entries, 0 to 622\n",
      "Data columns (total 4 columns):\n",
      " #   Column       Non-Null Count  Dtype \n",
      "---  ------       --------------  ----- \n",
      " 0   name         623 non-null    object\n",
      " 1   institution  623 non-null    object\n",
      " 2   course_url   623 non-null    object\n",
      " 3   course_id    623 non-null    object\n",
      "dtypes: object(4)\n",
      "memory usage: 19.6+ KB\n",
      "None\n"
     ]
    }
   ],
   "source": [
    "coursera_courses = pd.read_csv(\"./Datasets/Moocs/Coursera_courses.csv\")\n",
    "print(coursera_courses.info())"
   ]
  },
  {
   "cell_type": "code",
   "execution_count": 58,
   "metadata": {},
   "outputs": [
    {
     "name": "stdout",
     "output_type": "stream",
     "text": [
      "<class 'pandas.core.frame.DataFrame'>\n",
      "RangeIndex: 1454711 entries, 0 to 1454710\n",
      "Data columns (total 5 columns):\n",
      " #   Column        Non-Null Count    Dtype \n",
      "---  ------        --------------    ----- \n",
      " 0   reviews       1454571 non-null  object\n",
      " 1   reviewers     1454711 non-null  object\n",
      " 2   date_reviews  1454711 non-null  object\n",
      " 3   rating        1454711 non-null  int64 \n",
      " 4   course_id     1454711 non-null  object\n",
      "dtypes: int64(1), object(4)\n",
      "memory usage: 55.5+ MB\n",
      "None\n"
     ]
    }
   ],
   "source": [
    "coursera_reviews = pd.read_csv(\"./Datasets/Moocs/Coursera_reviews.csv\")\n",
    "print(coursera_reviews.info())"
   ]
  },
  {
   "attachments": {},
   "cell_type": "markdown",
   "metadata": {},
   "source": [
    "# Check for duplicates"
   ]
  },
  {
   "cell_type": "code",
   "execution_count": 59,
   "metadata": {},
   "outputs": [
    {
     "name": "stdout",
     "output_type": "stream",
     "text": [
      "Duplicates in Coursera_courses: 0\n",
      "Duplicates in Coursera_reviews: 934764\n"
     ]
    }
   ],
   "source": [
    "# Check for duplicates in coursera_courses dataframe\n",
    "print(\"Duplicates in Coursera_courses:\", coursera_courses.duplicated().sum())\n",
    "\n",
    "\n",
    "\n",
    "# Check for duplicates in coursera_reviews dataframe\n",
    "print(\"Duplicates in Coursera_reviews:\", coursera_reviews.duplicated().sum())"
   ]
  },
  {
   "attachments": {},
   "cell_type": "markdown",
   "metadata": {},
   "source": [
    "# Drop duplicates in reviews"
   ]
  },
  {
   "cell_type": "code",
   "execution_count": 60,
   "metadata": {},
   "outputs": [],
   "source": [
    "coursera_reviews.drop_duplicates(inplace=True)"
   ]
  },
  {
   "cell_type": "code",
   "execution_count": 61,
   "metadata": {},
   "outputs": [
    {
     "name": "stdout",
     "output_type": "stream",
     "text": [
      "<class 'pandas.core.frame.DataFrame'>\n",
      "Int64Index: 519947 entries, 0 to 1454644\n",
      "Data columns (total 5 columns):\n",
      " #   Column        Non-Null Count   Dtype \n",
      "---  ------        --------------   ----- \n",
      " 0   reviews       519891 non-null  object\n",
      " 1   reviewers     519947 non-null  object\n",
      " 2   date_reviews  519947 non-null  object\n",
      " 3   rating        519947 non-null  int64 \n",
      " 4   course_id     519947 non-null  object\n",
      "dtypes: int64(1), object(4)\n",
      "memory usage: 23.8+ MB\n",
      "None\n"
     ]
    }
   ],
   "source": [
    "print(coursera_reviews.info())"
   ]
  },
  {
   "cell_type": "code",
   "execution_count": 62,
   "metadata": {},
   "outputs": [
    {
     "name": "stdout",
     "output_type": "stream",
     "text": [
      "<class 'pandas.core.frame.DataFrame'>\n",
      "Int64Index: 519928 entries, 0 to 1454644\n",
      "Data columns (total 6 columns):\n",
      " #   Column        Non-Null Count   Dtype \n",
      "---  ------        --------------   ----- \n",
      " 0   reviews       519872 non-null  object\n",
      " 1   reviewers     519928 non-null  object\n",
      " 2   date_reviews  519928 non-null  object\n",
      " 3   rating        519928 non-null  int64 \n",
      " 4   course_id     519928 non-null  object\n",
      " 5   num_reviews   519928 non-null  int64 \n",
      "dtypes: int64(2), object(4)\n",
      "memory usage: 27.8+ MB\n",
      "None\n"
     ]
    }
   ],
   "source": [
    "coursera_reviews['num_reviews'] = coursera_reviews.groupby('course_id')['course_id'].transform('count')\n",
    "\n",
    "# Drop duplicates in \"coursera_reviews\" based on \"course_id\", \"reviews\", and \"reviewers\" columns\n",
    "coursera_reviews = coursera_reviews.drop_duplicates(subset=['course_id', 'reviews', 'reviewers'])\n",
    "\n",
    "# Print for checking info\n",
    "print(coursera_reviews.info())"
   ]
  },
  {
   "attachments": {},
   "cell_type": "markdown",
   "metadata": {},
   "source": [
    "### Now drop duplicates by \"curse_id\" keeping the unique values that are representative of the avrg. rating takinng the most recent value for date"
   ]
  },
  {
   "cell_type": "code",
   "execution_count": 63,
   "metadata": {},
   "outputs": [],
   "source": [
    "# Group the dataframe by course_id and calculate the mean rating for each group\n",
    "mean_ratings = coursera_reviews.groupby('course_id')['rating'].mean()\n",
    "\n",
    "# Create a new column 'mean_rating' in cursera_reviews that contains the mean rating for each course\n",
    "coursera_reviews['mean_rating'] = coursera_reviews['course_id'].map(mean_ratings)\n",
    "\n",
    "# Create a new column 'rating_diff' that contains the difference between the rating and the mean rating for each row\n",
    "coursera_reviews['rating_diff'] = abs(coursera_reviews['rating'] - coursera_reviews['mean_rating'])\n",
    "\n",
    "#### Sort the dataframe by course_id and date_reviews\n",
    "coursera_reviews = coursera_reviews.sort_values(by=['course_id', 'date_reviews'], ascending=[True, False])\n",
    "\n",
    "#### Drop duplicates of unique values in the column \"course_id\"\n",
    "coursera_reviews = coursera_reviews.drop_duplicates(subset='course_id', keep='first')"
   ]
  },
  {
   "cell_type": "code",
   "execution_count": 64,
   "metadata": {},
   "outputs": [
    {
     "name": "stdout",
     "output_type": "stream",
     "text": [
      "<class 'pandas.core.frame.DataFrame'>\n",
      "Int64Index: 604 entries, 1090514 to 1095185\n",
      "Data columns (total 8 columns):\n",
      " #   Column        Non-Null Count  Dtype  \n",
      "---  ------        --------------  -----  \n",
      " 0   reviews       604 non-null    object \n",
      " 1   reviewers     604 non-null    object \n",
      " 2   date_reviews  604 non-null    object \n",
      " 3   rating        604 non-null    int64  \n",
      " 4   course_id     604 non-null    object \n",
      " 5   num_reviews   604 non-null    int64  \n",
      " 6   mean_rating   604 non-null    float64\n",
      " 7   rating_diff   604 non-null    float64\n",
      "dtypes: float64(2), int64(2), object(4)\n",
      "memory usage: 42.5+ KB\n",
      "None\n"
     ]
    }
   ],
   "source": [
    "# Print for checking info\n",
    "print(coursera_reviews.info())"
   ]
  },
  {
   "attachments": {},
   "cell_type": "markdown",
   "metadata": {},
   "source": [
    "# Detect and generate language"
   ]
  },
  {
   "cell_type": "code",
   "execution_count": 65,
   "metadata": {},
   "outputs": [],
   "source": [
    "from langdetect import detect\n",
    "\n",
    "def detect_language(text):\n",
    "    try:\n",
    "        return detect(text)\n",
    "    except:\n",
    "        return \"Error\"\n",
    "    \n",
    "coursera_reviews['language'] = coursera_reviews[['reviews', 'course_id']].applymap(detect_language).mode(axis=1)[0]\n"
   ]
  },
  {
   "attachments": {},
   "cell_type": "markdown",
   "metadata": {},
   "source": [
    "# Mershing the two dataframes into one called \"coursera_clean\""
   ]
  },
  {
   "cell_type": "code",
   "execution_count": 66,
   "metadata": {},
   "outputs": [],
   "source": [
    "coursera_clean= pd.merge(coursera_reviews, coursera_courses, on='course_id')"
   ]
  },
  {
   "cell_type": "code",
   "execution_count": 67,
   "metadata": {},
   "outputs": [
    {
     "name": "stdout",
     "output_type": "stream",
     "text": [
      "<class 'pandas.core.frame.DataFrame'>\n",
      "Int64Index: 604 entries, 0 to 603\n",
      "Data columns (total 12 columns):\n",
      " #   Column        Non-Null Count  Dtype  \n",
      "---  ------        --------------  -----  \n",
      " 0   reviews       604 non-null    object \n",
      " 1   reviewers     604 non-null    object \n",
      " 2   date_reviews  604 non-null    object \n",
      " 3   rating        604 non-null    int64  \n",
      " 4   course_id     604 non-null    object \n",
      " 5   num_reviews   604 non-null    int64  \n",
      " 6   mean_rating   604 non-null    float64\n",
      " 7   rating_diff   604 non-null    float64\n",
      " 8   language      604 non-null    object \n",
      " 9   name          604 non-null    object \n",
      " 10  institution   604 non-null    object \n",
      " 11  course_url    604 non-null    object \n",
      "dtypes: float64(2), int64(2), object(8)\n",
      "memory usage: 61.3+ KB\n",
      "None\n"
     ]
    }
   ],
   "source": [
    "print(coursera_clean.info())"
   ]
  },
  {
   "cell_type": "code",
   "execution_count": 68,
   "metadata": {},
   "outputs": [
    {
     "name": "stdout",
     "output_type": "stream",
     "text": [
      "                                               reviews         reviewers  \\\n",
      "0    The course provided a new perspective on the n...      By Richard J   \n",
      "1    기업에서 관리되는 접근제어 방식 중 다양한 모델과 장치들을 알게 되었습니다. 초심자...       By PUREUM W   \n",
      "2         Excellent thoughts and concepts presented.    By Shivanand R K   \n",
      "3    This is just a basic Python programming course...   By Truong T T H   \n",
      "4    Fue un curso muy padre y entendible para cualq...       By Brenda I   \n",
      "..                                                 ...               ...   \n",
      "599  Learnt so much on this subject! Amazing course...       By Benita A   \n",
      "600                                   great experience    By GAYATRI S T   \n",
      "601  It is a course which teaches you punctuality, ...         By Ayan C   \n",
      "602  Leaves you better than you began. Thank you, P...      By SHANIYA B   \n",
      "603  An excellent course that provides the most imp...        By Bryan C   \n",
      "\n",
      "     date_reviews  rating                                          course_id  \\\n",
      "0    Sep 22, 2020       5                               aboriginal-education   \n",
      "1    Sep 25, 2019       5                                access-control-sscp   \n",
      "2    Sep 30, 2018       5                               accounting-analytics   \n",
      "3    Sep 02, 2020       3                   accounting-data-analytics-python   \n",
      "4    Sep 29, 2020       5               actualizacion-manejo-diabetes-tipo-2   \n",
      "..            ...     ...                                                ...   \n",
      "599  Sep 27, 2019       5                         womens-health-human-rights   \n",
      "600  Sep 30, 2020       5  write-a-feature-length-screenplay-for-film-or-...   \n",
      "601  Sep 21, 2020       5                             write-your-first-novel   \n",
      "602  Sep 29, 2020       5                              writing-editing-words   \n",
      "603  Sep 30, 2020       5                               writing-for-business   \n",
      "\n",
      "     num_reviews  mean_rating  rating_diff language  \\\n",
      "0             67     4.552239     0.447761       en   \n",
      "1             45     4.466667     0.533333       it   \n",
      "2            468     4.395299     0.604701       en   \n",
      "3              8     3.500000     0.500000       en   \n",
      "4            253     4.845850     0.154150       es   \n",
      "..           ...          ...          ...      ...   \n",
      "599          242     4.884298     0.115702       en   \n",
      "600           32     4.625000     0.375000       en   \n",
      "601           20     3.850000     1.150000       en   \n",
      "602          105     4.742857     0.257143       en   \n",
      "603          811     4.818742     0.181258       en   \n",
      "\n",
      "                                                  name  \\\n",
      "0                  Aboriginal Worldviews and Education   \n",
      "1                                      Access Controls   \n",
      "2                                 Accounting Analytics   \n",
      "3                Accounting Data Analytics with Python   \n",
      "4    Actualización en el manejo del paciente con di...   \n",
      "..                                                 ...   \n",
      "599      International Women's Health and Human Rights   \n",
      "600  Write A Feature Length Screenplay For Film Or ...   \n",
      "601                             Write Your First Novel   \n",
      "602    Writing and Editing: Word Choice and Word Order   \n",
      "603                                   Business Writing   \n",
      "\n",
      "                                    institution  \\\n",
      "0                         University of Toronto   \n",
      "1                                        (ISC)²   \n",
      "2                    University of Pennsylvania   \n",
      "3    University of Illinois at Urbana-Champaign   \n",
      "4       Universidad Nacional Autónoma de México   \n",
      "..                                          ...   \n",
      "599                         Stanford University   \n",
      "600                   Michigan State University   \n",
      "601                   Michigan State University   \n",
      "602                      University of Michigan   \n",
      "603              University of Colorado Boulder   \n",
      "\n",
      "                                            course_url  \n",
      "0    https://www.coursera.org/learn/aboriginal-educ...  \n",
      "1    https://www.coursera.org/learn/access-control-...  \n",
      "2    https://www.coursera.org/learn/accounting-anal...  \n",
      "3    https://www.coursera.org/learn/accounting-data...  \n",
      "4    https://www.coursera.org/learn/actualizacion-m...  \n",
      "..                                                 ...  \n",
      "599  https://www.coursera.org/learn/womens-health-h...  \n",
      "600  https://www.coursera.org/learn/write-a-feature...  \n",
      "601  https://www.coursera.org/learn/write-your-firs...  \n",
      "602  https://www.coursera.org/learn/writing-editing...  \n",
      "603  https://www.coursera.org/learn/writing-for-bus...  \n",
      "\n",
      "[604 rows x 12 columns]\n"
     ]
    }
   ],
   "source": [
    "print(coursera_clean)"
   ]
  },
  {
   "attachments": {},
   "cell_type": "markdown",
   "metadata": {},
   "source": [
    "# Drop unecesary columns and change column \"name\" for \"title\" and \"course_id\" for \"subject\""
   ]
  },
  {
   "cell_type": "code",
   "execution_count": 69,
   "metadata": {},
   "outputs": [],
   "source": [
    "coursera_clean = coursera_clean.drop([\"mean_rating\", \"rating_diff\"], axis=1).rename(columns={\"name\": \"title\", \"course_id\": \"subject\"})"
   ]
  },
  {
   "cell_type": "code",
   "execution_count": 70,
   "metadata": {},
   "outputs": [
    {
     "name": "stdout",
     "output_type": "stream",
     "text": [
      "<class 'pandas.core.frame.DataFrame'>\n",
      "Int64Index: 604 entries, 0 to 603\n",
      "Data columns (total 10 columns):\n",
      " #   Column        Non-Null Count  Dtype \n",
      "---  ------        --------------  ----- \n",
      " 0   reviews       604 non-null    object\n",
      " 1   reviewers     604 non-null    object\n",
      " 2   date_reviews  604 non-null    object\n",
      " 3   rating        604 non-null    int64 \n",
      " 4   subject       604 non-null    object\n",
      " 5   num_reviews   604 non-null    int64 \n",
      " 6   language      604 non-null    object\n",
      " 7   title         604 non-null    object\n",
      " 8   institution   604 non-null    object\n",
      " 9   course_url    604 non-null    object\n",
      "dtypes: int64(2), object(8)\n",
      "memory usage: 51.9+ KB\n",
      "None\n"
     ]
    }
   ],
   "source": [
    "print(coursera_clean.info())"
   ]
  },
  {
   "attachments": {},
   "cell_type": "markdown",
   "metadata": {},
   "source": [
    "# add the column \"price\" and fill it with coursera subscription for proffesional certificates \"$39 USD per month\"\n",
    "# also add coolumn platform and level"
   ]
  },
  {
   "cell_type": "code",
   "execution_count": 71,
   "metadata": {},
   "outputs": [],
   "source": [
    "coursera_clean[\"price\"] = \"39\"\n",
    "coursera_clean[\"level\"] = \"unknown\"\n",
    "coursera_clean[\"platform\"] = \"coursera\""
   ]
  },
  {
   "attachments": {},
   "cell_type": "markdown",
   "metadata": {},
   "source": [
    "# Transform \"price\" type into \"int\""
   ]
  },
  {
   "cell_type": "code",
   "execution_count": 72,
   "metadata": {},
   "outputs": [],
   "source": [
    "coursera_clean['price'] = coursera_clean['price'].astype(int)\n"
   ]
  },
  {
   "attachments": {},
   "cell_type": "markdown",
   "metadata": {},
   "source": [
    "# Drop unecesary columns and order them"
   ]
  },
  {
   "cell_type": "code",
   "execution_count": 73,
   "metadata": {},
   "outputs": [],
   "source": [
    "columns_to_keep = ['price', 'language', 'level', 'rating', 'title', 'institution', 'subject', 'platform']\n",
    "coursera_clean = coursera_clean[columns_to_keep]"
   ]
  },
  {
   "attachments": {},
   "cell_type": "markdown",
   "metadata": {},
   "source": [
    "# Export cleaned files"
   ]
  },
  {
   "cell_type": "code",
   "execution_count": 74,
   "metadata": {},
   "outputs": [],
   "source": [
    "# Export as .csv\n",
    "coursera_clean.to_csv('./Datasets/Cleaned/coursera_clean.csv', index=False)\n",
    "\n",
    "# Export as .xlsx\n",
    "coursera_clean.to_excel('./Datasets/Cleaned/coursera_clean.xlsx', index=False)\n"
   ]
  }
 ],
 "metadata": {
  "kernelspec": {
   "display_name": "Python 3",
   "language": "python",
   "name": "python3"
  },
  "language_info": {
   "codemirror_mode": {
    "name": "ipython",
    "version": 3
   },
   "file_extension": ".py",
   "mimetype": "text/x-python",
   "name": "python",
   "nbconvert_exporter": "python",
   "pygments_lexer": "ipython3",
   "version": "3.10.8"
  },
  "orig_nbformat": 4,
  "vscode": {
   "interpreter": {
    "hash": "ffda8b6017134b5c6128eec6546762e20742105f4bc29c7c0f871edb66bedab5"
   }
  }
 },
 "nbformat": 4,
 "nbformat_minor": 2
}
